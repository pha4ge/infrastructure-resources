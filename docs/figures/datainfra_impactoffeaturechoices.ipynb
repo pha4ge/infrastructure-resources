{
 "cells": [
  {
   "cell_type": "code",
   "execution_count": null,
   "metadata": {},
   "outputs": [],
   "source": [
    "# Load required libraries\n",
    "library(ggplot2)\n",
    "library(dplyr)\n",
    "library(tidyr)\n",
    "\n",
    "\n",
    "# Create the data frame\n",
    "data <- tribble(\n",
    "  ~Factor, ~Where, ~Scope, ~How, ~`Data sharing`, ~`ID & Auth`,\n",
    "  \"Future proofing\", \"H\", \"H\", \"M\", \"H\", \"M\",\n",
    "  \"Ease of use (admin)\", \"M\", \"L\", \"L\", \"M\", \"M\",\n",
    "  \"Ease of use (user)\", \"M\", \"M\", \"L\", \"L\", \"L\",\n",
    "  \"Data governance\", \"M\", \"M\", \"M\", \"H\", \"M\",\n",
    "  \"Access control\", \"M\", \"L\", \"M\", \"M\", \"H\",\n",
    "  \"External access\", \"M\", \"L\", \"M\", \"L\", \"M\",\n",
    "  \"Flexibility\", \"M\", \"M\", \"L\", \"L\", \"L\",\n",
    "  \"Scalability\", \"H\", \"M\", \"M\", \"H\", \"L\"\n",
    ")\n",
    "\n",
    "# Pivot the data to long format\n",
    "data_long <- data %>%\n",
    "  pivot_longer(-Factor, names_to = \"Dimension\", values_to = \"Level\")\n",
    "\n",
    "# Define custom color mapping\n",
    "level_colors <- c(\n",
    "  \"H\" = \"#2B8CBE\",   \n",
    "  \"M\" = \"#A6BDDB\",   \n",
    "  \"L\" = \"#ECE7F2\"    \n",
    ")\n",
    "\n",
    "# Plot\n",
    "ggplot(data_long, aes(x = Dimension, y = Factor, fill = Level)) +\n",
    "  geom_tile(color = \"white\", linewidth = 1.2) +\n",
    "  geom_text(aes(label = Level), color = \"black\", size = 5, fontface = \"bold\") +\n",
    "  scale_fill_manual(values = level_colors) +\n",
    "  scale_y_discrete(limits = rev) +\n",
    "  theme_minimal(base_family = \"Helvetica\") +\n",
    "  theme(\n",
    "    plot.title = element_text(face = \"bold\", size = 18, hjust = 0.5),\n",
    "    axis.text.x = element_text(face = \"bold\", size = 11, angle = 0),\n",
    "    axis.text.y = element_text(face = \"bold\", size = 11),\n",
    "    axis.title = element_blank(),\n",
    "    panel.grid = element_blank(),\n",
    "    legend.position = \"none\",\n",
    "    plot.background = element_rect(fill = \"white\", color = NA)\n",
    "  ) +\n",
    "  ggtitle(\"IMPACT OF FEATURE CHOICES\")\n",
    "\n",
    "  ggsave(\"datainfra_impactoffeaturechoices.png\", width = 10, height = 6, dpi = 300)"
   ]
  }
 ],
 "metadata": {
  "language_info": {
   "name": "r"
  }
 },
 "nbformat": 4,
 "nbformat_minor": 2
}
